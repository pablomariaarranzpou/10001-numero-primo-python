{
 "cells": [
  {
   "cell_type": "code",
   "execution_count": 3,
   "metadata": {},
   "outputs": [
    {
     "data": {
      "text/plain": [
       "104743"
      ]
     },
     "execution_count": 3,
     "metadata": {},
     "output_type": "execute_result"
    }
   ],
   "source": [
    "import math;\n",
    "\n",
    "def eratostenes(n):\n",
    "    \n",
    "        #Caso de 0 y 1 lo resolvemos lo primero\n",
    "    \n",
    "        if n == 0 or n == 1:\n",
    "            return False;\n",
    "        \n",
    "        #Numero par y primo (caso especial)\n",
    "        if n ==  2:\n",
    "            return True;\n",
    "        \n",
    "        #Numeros pares\n",
    "        if n % 2 == 0 : \n",
    "            return False;\n",
    "        \n",
    "        \n",
    "        #Numeros impares y multiplos de ellos\n",
    "        i = 3\n",
    "        \n",
    "        while math.sqrt(n) >= i:\n",
    "            \n",
    "            if n % i == 0:\n",
    "                \n",
    "                return False;\n",
    "            \n",
    "            i += 2\n",
    "        \n",
    "    \n",
    "        return True;\n",
    "    \n",
    "def encontrarNumero(posicion):\n",
    "    \n",
    "    x = 2\n",
    "    i = 1\n",
    "    \n",
    "    while 1 == 1:            \n",
    "            \n",
    "        if(eratostenes(x)):\n",
    "        \n",
    "            if(i == posicion):\n",
    "                \n",
    "                return x;\n",
    "                 \n",
    "            else:\n",
    "                i+= 1\n",
    "                \n",
    "        x += 1    \n",
    "\n",
    "encontrarNumero(10001)"
   ]
  }
 ],
 "metadata": {
  "kernelspec": {
   "display_name": "Python 3",
   "language": "python",
   "name": "python3"
  },
  "language_info": {
   "codemirror_mode": {
    "name": "ipython",
    "version": 3
   },
   "file_extension": ".py",
   "mimetype": "text/x-python",
   "name": "python",
   "nbconvert_exporter": "python",
   "pygments_lexer": "ipython3",
   "version": "3.8.3"
  }
 },
 "nbformat": 4,
 "nbformat_minor": 4
}
